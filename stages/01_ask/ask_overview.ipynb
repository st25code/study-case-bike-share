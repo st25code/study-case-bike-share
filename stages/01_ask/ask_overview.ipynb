{
 "cells": [
  {
   "cell_type": "markdown",
   "id": "70bc54fb",
   "metadata": {},
   "source": [
    "# 🕵️ Ask Overview\n",
    "\n",
    "## Business Task Statement\n",
    "How do annual members and casual riders use Cyclistic bikes differently?\n",
    "\n",
    "## Guiding Questions\n",
    "1. How do annual members and casual riders use Cyclistic bikes differently?  \n",
    "2. Why would casual riders buy Cyclistic annual memberships?  \n",
    "3. How can Cyclistic use digital media to influence casual riders to become members?\n",
    "\n",
    "> **Note:** Moreno has assigned you the first question to answer: *How do annual members and casual riders use Cyclistic bikes differently?*\n",
    "\n",
    "## Deliverables for Ask Phase\n",
    "1. A clear statement of the business task  \n",
    "2. A description of all data sources used  \n",
    "3. Documentation of any cleaning or manipulation of data  \n",
    "4. A summary of your analysis  \n",
    "5. Supporting visualizations and key findings  \n",
    "6. Top three recommendations based on your analysis\n",
    "\n",
    "## Stakeholders\n",
    "- Lily Moreno (Director of Marketing)  \n",
    "- Marketing Analytics Team  \n",
    "- Finance Department  \n",
    "- Executive Team\n",
    "\n",
    "## Next Steps\n",
    "- Finalize guiding questions and stakeholder map.  \n",
    "- Proceed to the Prepare phase (data collection & organization).  "
   ]
  }
 ],
 "metadata": {
  "language_info": {
   "name": "python"
  }
 },
 "nbformat": 4,
 "nbformat_minor": 5
}
